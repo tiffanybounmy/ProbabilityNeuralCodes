{
 "cells": [
  {
   "cell_type": "markdown",
   "metadata": {},
   "source": [
    "# Simplification of encoding models based on tuning curves.\n",
    "\n"
   ]
  },
  {
   "cell_type": "code",
   "execution_count": 1,
   "metadata": {
    "code_folding": []
   },
   "outputs": [],
   "source": [
    "# Import useful modules\n",
    "import os\n",
    "import scipy\n",
    "import random as rand\n",
    "from scipy import io as sio\n",
    "from scipy import stats\n",
    "from scipy.stats.stats import pearsonr\n",
    "import numpy as np\n",
    "import matplotlib.pyplot as plt\n",
    "import matplotlib\n",
    "import pandas as pd\n",
    "import itertools\n",
    "\n",
    "import pickle\n",
    "import itertools\n",
    "import time\n",
    "\n",
    "import copy\n",
    "\n",
    "import multiprocessing as mp\n",
    "\n",
    "from sklearn import linear_model\n",
    "from sklearn.metrics import mean_squared_error, r2_score\n",
    "\n",
    "import neural_proba\n",
    "from neural_proba import distrib\n",
    "from neural_proba import tuning_curve\n",
    "from neural_proba import voxel\n",
    "from neural_proba import experiment\n",
    "from neural_proba import fmri\n",
    "\n",
    "import utils"
   ]
  },
  {
   "cell_type": "code",
   "execution_count": 2,
   "metadata": {},
   "outputs": [
    {
     "data": {
      "text/plain": [
       "'/home/tb258044/Documents/code'"
      ]
     },
     "execution_count": 2,
     "metadata": {},
     "output_type": "execute_result"
    }
   ],
   "source": [
    "pwd"
   ]
  },
  {
   "cell_type": "markdown",
   "metadata": {},
   "source": [
    "### To avoid scrolling windows"
   ]
  },
  {
   "cell_type": "code",
   "execution_count": 3,
   "metadata": {
    "code_folding": []
   },
   "outputs": [
    {
     "data": {
      "application/javascript": [
       "IPython.OutputArea.prototype._should_scroll = function(lines) {\n",
       "    return false;\n",
       "}"
      ],
      "text/plain": [
       "<IPython.core.display.Javascript object>"
      ]
     },
     "metadata": {},
     "output_type": "display_data"
    }
   ],
   "source": [
    "%%javascript\n",
    "IPython.OutputArea.prototype._should_scroll = function(lines) {\n",
    "    return false;\n",
    "}"
   ]
  },
  {
   "cell_type": "markdown",
   "metadata": {},
   "source": [
    "## Properties of the models\n",
    "\n",
    "Here are the properties related to :\n",
    "- the tuning curves (types, number, variance, ...) both true and fitted. \n",
    "- the neural mixture (sparsities)\n",
    "- the subjects\n",
    "- the sessions\n",
    "- the SNR\n",
    "- the type of linear regression performed"
   ]
  },
  {
   "cell_type": "code",
   "execution_count": 4,
   "metadata": {
    "code_folding": []
   },
   "outputs": [],
   "source": [
    "# All parameters are here\n",
    "\n",
    "# Define the seed to reproduce results from random processes\n",
    "rand.seed(4);\n",
    "\n",
    "# INPUTS\n",
    "\n",
    "# The parameters related to the scheme\n",
    "scheme_array = ['gaussian_ppc', 'sigmoid_ppc', 'gaussian_dpc', 'sigmoid_dpc']\n",
    "n_schemes = len(scheme_array)\n",
    "\n",
    "# The parameters related to the tuning curves to be explored\n",
    "\n",
    "N_array = np.array([2, 3, 4, 5, 6, 7, 8, 10, 14, 20])\n",
    "\n",
    "t_mu_gaussian_array = np.array([0.15, 0.12, 0.1, 8e-2, 7e-2, 6e-2, 5e-2, 4e-2, 3e-2, 2e-2])\n",
    "t_conf_gaussian_array = np.array([0.25, 0.2, 0.15, 0.12, 0.10, 9e-2, 8e-2, 6e-2, 4e-2, 3e-2])\n",
    "\n",
    "# # Even N\n",
    "#N_array = np.array([2, 4, 6, 8, 10, 14, 20])\n",
    "\n",
    "#t_mu_gaussian_array = np.array([0.15, 0.1, 7e-2, 5e-2, 4e-2, 3e-2, 2e-2])\n",
    "#t_conf_gaussian_array = np.array([0.25, 0.15, 0.10, 8e-2, 6e-2, 4e-2, 3e-2])\n",
    "\n",
    "\n",
    "t_mu_sigmoid_array = np.sqrt(2*np.pi)/4*t_mu_gaussian_array\n",
    "t_conf_sigmoid_array = np.sqrt(2*np.pi)/4*t_conf_gaussian_array\n",
    "\n",
    "# Lower and upper bounds of the encoded summary quantity (for tuning curves) established from the histograms\n",
    "tc_lower_bound_mu = 0\n",
    "tc_upper_bound_mu = 1\n",
    "tc_lower_bound_conf = 1.1\n",
    "tc_upper_bound_conf = 2.6\n",
    "\n",
    "# The number of N to be tested\n",
    "n_N = len(N_array)\n",
    "\n",
    "# The number of fractions tested (related to W): one per sparsity level combination\n",
    "n_fractions = 20\n",
    "\n",
    "# Sparsity exponents\n",
    "sparsity_exp_array = np.array([1, 2, 4, 8])\n",
    "n_sparsity_exp = len(sparsity_exp_array)\n",
    "\n",
    "# The number of subjects\n",
    "n_subjects = 1000\n",
    "\n",
    "# The number of sessions\n",
    "n_sessions = 4\n",
    "\n",
    "# Experimental options\n",
    "n_stimuli = 380    # The number of stimuli per session\n",
    "\n",
    "between_stimuli_duration = 1.3\n",
    "min_break_time = 8\n",
    "max_break_time = 12\n",
    "min_n_local_regular_stimuli = 12    # Min number of stimuli before a break\n",
    "max_n_local_regular_stimuli = 18    # Max number of stimuli before a break\n",
    "\n",
    "\n",
    "# Transition proba or Bernoulli proba\n",
    "distrib_type = 'transition'    #'bernoulli' or 'transition' \n",
    "\n",
    "# Load the corresponding data\n",
    "[p1_dist_array, p1_mu_array, p1_sd_array] = neural_proba.import_distrib_param(n_subjects, n_sessions, n_stimuli, distrib_type)\n",
    "\n",
    "# SNR as defined by ||signal||²/(||signal||²+||noise||²). Mind the squares!\n",
    "snr = 0.1\n",
    "\n",
    "# fMRI info\n",
    "final_frame_offset = 10  # Frame recording duration after the last stimulus has been shown\n",
    "initial_frame_time = 0\n",
    "dt = 0.125  # Temporal resolution of the fMRI scanner\n",
    "\n",
    "between_scans_duration = 2  # in seconds\n",
    "final_scan_offset = 10  # Scan recording duration after the last stimulus has been shown\n",
    "\n",
    "\n",
    "# Type of regression\n",
    "regr = linear_model.LinearRegression(fit_intercept=True, n_jobs=-1)\n",
    "regr2 = linear_model.LinearRegression(fit_intercept=True, n_jobs=-1)\n",
    "\n",
    "whitening_done = False\n"
   ]
  },
  {
   "cell_type": "code",
   "execution_count": 18,
   "metadata": {},
   "outputs": [
    {
     "name": "stdout",
     "output_type": "stream",
     "text": [
      "0.2192206952456889\n",
      "0.28385972778202867\n"
     ]
    },
    {
     "data": {
      "image/png": "[encoded data removed]",
      "text/plain": [
       "<Figure size 432x288 with 1 Axes>"
      ]
     },
     "metadata": {
      "needs_background": "light"
     },
     "output_type": "display_data"
    },
    {
     "data": {
      "image/png": "[encoded data removed]",
      "text/plain": [
       "<Figure size 432x288 with 1 Axes>"
      ]
     },
     "metadata": {
      "needs_background": "light"
     },
     "output_type": "display_data"
    }
   ],
   "source": [
    "# Histograms of the distribution\n",
    "all_mu = np.concatenate(p1_mu_array).ravel()    # All values of mu (for percentiles)\n",
    "\n",
    "all_conf = -np.log(np.concatenate(p1_sd_array).ravel())    # All values of conf (for percentiles)\n",
    "\n",
    "# The quantity used for \n",
    "print(np.std(all_mu))\n",
    "print(np.std(all_conf))\n",
    "# To get the percentiles\n",
    "\n",
    "fontsize=15\n",
    "fig = plt.figure()\n",
    "plt.hist(all_mu, bins=100)\n",
    "plt.title(\"Mu histogram\", fontsize=fontsize+5)\n",
    "plt.xlabel(r\"$\\mu$\", fontsize=fontsize)\n",
    "plt.ylabel(\"Frequency\", fontsize=fontsize)\n",
    "plt.show()\n",
    "\n",
    "fig = plt.figure()\n",
    "plt.hist(all_conf, bins=100)\n",
    "plt.title(\"Confidence histogram\", fontsize=fontsize+5)\n",
    "plt.xlabel(r\"$-\\log(\\sigma)$\", fontsize=fontsize)\n",
    "plt.ylabel(\"Frequency\", fontsize=fontsize)\n",
    "plt.show()\n",
    "\n",
    "mu_percentiles = np.percentile(all_mu, np.linspace(0, 100, 100))\n",
    "\n",
    "conf_percentiles = np.percentile(all_conf, np.linspace(0, 100, 100))\n"
   ]
  },
  {
   "cell_type": "markdown",
   "metadata": {},
   "source": [
    "## Handle the data\n",
    "\n",
    "### Raw data loading and visualization\n"
   ]
  },
  {
   "cell_type": "code",
   "execution_count": 5,
   "metadata": {
    "code_folding": []
   },
   "outputs": [],
   "source": [
    "# Load the design matrices and specify their size\n",
    "#with open(\"output/design_matrices/X.txt\", \"rb\") as fp: \"X.txt\", \"rb\") as fp:   # Unpickling\n",
    "#    X = pickle.load(fp)"
   ]
  },
  {
   "cell_type": "code",
   "execution_count": 5,
   "metadata": {
    "code_folding": []
   },
   "outputs": [],
   "source": [
    "# Just for now\n",
    "n_subjects = 1000\n",
    "\n",
    "# Create the matrix with all the possibilities (mu or 1-mu encoded in each session) of size 16x4\n",
    "n_directions = list(itertools.product([0,1], repeat=4))\n",
    "n_directions = np.array(n_directions)"
   ]
  },
  {
   "cell_type": "markdown",
   "metadata": {},
   "source": [
    "## Handle the data\n",
    "\n",
    "### Raw data loading and visualization\n"
   ]
  },
  {
   "cell_type": "code",
   "execution_count": 6,
   "metadata": {},
   "outputs": [],
   "source": [
    "# Some reloading (one should run it if the loops have already been performed and results saved)\n",
    "r2_raw_train = np.load('/volatile/bounmy/output/results/snr0.1/'+str(distrib_type)+'/all/1000subjects_r2_raw_train_snr0.1.npy')\n",
    "rho_raw_train = np.load('/volatile/bounmy/output/results/snr0.1/'+str(distrib_type)+'/all/1000subjects_rho_raw_train_snr0.1.npy')\n",
    "r2_true_train = np.load('/volatile/bounmy/output/results/snr0.1/'+str(distrib_type)+'/all/1000subjects_r2_true_train_snr0.1.npy')\n",
    "rho_true_train = np.load('/volatile/bounmy/output/results/snr0.1/'+str(distrib_type)+'/all/1000subjects_rho_true_train_snr0.1.npy')\n",
    "\n",
    "r2_raw_test = np.load('/volatile/bounmy/output/results/snr0.1/'+str(distrib_type)+'/all/1000subjects_r2_raw_test_snr0.1.npy')\n",
    "rho_raw_test = np.load('/volatile/bounmy/output/results/snr0.1/'+str(distrib_type)+'/all/1000subjects_rho_raw_test_snr0.1.npy')\n",
    "r2_true_test = np.load('/volatile/bounmy/output/results/snr0.1/'+str(distrib_type)+'/all/1000subjects_r2_true_test_snr0.1.npy')\n",
    "rho_true_test = np.load('/volatile/bounmy/output/results/snr0.1/'+str(distrib_type)+'/all/1000subjects_rho_true_test_snr0.1.npy')"
   ]
  },
  {
   "cell_type": "code",
   "execution_count": 7,
   "metadata": {},
   "outputs": [],
   "source": [
    "#n_subjects = 1000\n",
    "\n",
    "r2_raw_train_summary = np.zeros((n_schemes, n_N, n_N, n_fractions*n_subjects*n_sessions))\n",
    "r2_raw_test_summary = np.zeros((n_schemes, n_N, n_N, n_fractions*n_subjects*n_sessions))\n",
    "rho_raw_train_summary = np.zeros((n_schemes, n_N, n_N, n_fractions*n_subjects*n_sessions))\n",
    "rho_raw_test_summary = np.zeros((n_schemes, n_N, n_N, n_fractions*n_subjects*n_sessions))\n",
    "r2_true_train_summary = np.zeros((n_schemes, n_N, n_N, n_fractions*n_subjects*n_sessions))\n",
    "r2_true_test_summary = np.zeros((n_schemes, n_N, n_N, n_fractions*n_subjects*n_sessions))\n",
    "rho_true_train_summary = np.zeros((n_schemes, n_N, n_N, n_fractions*n_subjects*n_sessions))\n",
    "rho_true_test_summary = np.zeros((n_schemes, n_N, n_N, n_fractions*n_subjects*n_sessions))\n",
    "\n",
    "for k_scheme, k_fit_N, k_true_N in itertools.product(range(n_schemes), range(n_N), range(n_N)):\n",
    "    \n",
    "    r2_raw_train_summary[k_scheme, k_fit_N, k_true_N, :] = r2_raw_train[k_scheme, k_fit_N, k_true_N, :, :, :].flatten()\n",
    "    rho_raw_train_summary[k_scheme, k_fit_N, k_true_N, :] = rho_raw_train[k_scheme, k_fit_N, k_true_N, :, :, :].flatten()\n",
    "    r2_true_train_summary[k_scheme, k_fit_N, k_true_N, :] = r2_true_train[k_scheme, k_fit_N, k_true_N, :, :, :].flatten()\n",
    "    rho_true_train_summary[k_scheme, k_fit_N, k_true_N, :] = rho_true_train[k_scheme, k_fit_N, k_true_N, :, :, :].flatten()\n",
    "    \n",
    "    r2_raw_test_summary[k_scheme, k_fit_N, k_true_N, :] = r2_raw_test[k_scheme, k_fit_N, k_true_N, :, :, :].flatten()\n",
    "    rho_raw_test_summary[k_scheme, k_fit_N, k_true_N, :] = rho_raw_test[k_scheme, k_fit_N, k_true_N, :, :, :].flatten()\n",
    "    r2_true_test_summary[k_scheme, k_fit_N, k_true_N, :] = r2_true_test[k_scheme, k_fit_N, k_true_N, :, :, :].flatten()\n",
    "    rho_true_test_summary[k_scheme, k_fit_N, k_true_N, :] = rho_true_test[k_scheme, k_fit_N, k_true_N, :, :, :].flatten()"
   ]
  },
  {
   "cell_type": "code",
   "execution_count": 8,
   "metadata": {},
   "outputs": [
    {
     "name": "stdout",
     "output_type": "stream",
     "text": [
      "(4, 10, 10, 20, 1000, 4)\n"
     ]
    }
   ],
   "source": [
    "print(r2_raw_train.shape)"
   ]
  },
  {
   "cell_type": "markdown",
   "metadata": {
    "scrolled": true
   },
   "source": [
    "### Visualize results from simulation 1 (one example)"
   ]
  },
  {
   "cell_type": "code",
   "execution_count": 10,
   "metadata": {
    "code_folding": []
   },
   "outputs": [
    {
     "data": {
      "image/png": "[encoded data removed]",
      "text/plain": [
       "<Figure size 432x288 with 1 Axes>"
      ]
     },
     "metadata": {
      "needs_background": "light"
     },
     "output_type": "display_data"
    },
    {
     "name": "stdout",
     "output_type": "stream",
     "text": [
      "r2 var: 0.0009744190581504731\n",
      "r2 mean: 0.055287928565879746\n"
     ]
    },
    {
     "data": {
      "image/png": "[encoded data removed]",
      "text/plain": [
       "<Figure size 432x288 with 1 Axes>"
      ]
     },
     "metadata": {
      "needs_background": "light"
     },
     "output_type": "display_data"
    },
    {
     "name": "stdout",
     "output_type": "stream",
     "text": [
      "rho var: 0.0022786206901035952\n",
      "rho mean: 0.2366843121703062\n"
     ]
    }
   ],
   "source": [
    "# Visualize one specific histogram over r2 or rho\n",
    "\n",
    "#########################################\n",
    "k_scheme = 0\n",
    "k_fit_N = 0\n",
    "k_true_N = -1\n",
    "# Metric\n",
    "metric_name = 'r2'\n",
    "true_or_raw = 'raw'\n",
    "train_or_test = 'test'\n",
    "\n",
    "##########################################\n",
    "\n",
    "scheme = scheme_array[k_scheme]\n",
    "fit_N = N_array[k_fit_N]\n",
    "true_N = N_array[k_true_N]\n",
    "\n",
    "exec(\"metric = %s_%s_%s_summary[k_scheme, k_fit_N, k_true_N]\" % (metric_name, true_or_raw, train_or_test))\n",
    "\n",
    "nbins = 20\n",
    "width = 0.03\n",
    "fig = plt.figure()\n",
    "ax = fig.add_subplot(111) \n",
    "ax.hist(metric, bins=nbins, align='left', color='b', width=width)\n",
    "#ax.bar(negative_center, n_negative_values, color='r', width=2*width, align='center')\n",
    "ax.set_title(metric_name+' on '+true_or_raw+' '+train_or_test+' for '+scheme+', N_fit='+str(fit_N)+', N_true='+str(true_N))\n",
    "ax.set_xlabel('{}_{}'.format(metric_name, train_or_test))\n",
    "ax.set_ylabel(\"Frequency\")\n",
    "ax.set_xlim([-0.3, 1.1])\n",
    "plt.show()\n",
    "\n",
    "print('r2 var: '+str(np.var(metric)))\n",
    "print('r2 mean: '+str(np.mean(metric)))\n",
    "\n",
    "fig.savefig(\"figures_tmp/fit_example_histogram_r2_N_fit\"+str(fit_N)+\"_N_true\"+str(true_N)+\"_snr\"+str(snr)+\".pdf\", bbox_inches='tight')\n",
    "\n",
    "# rho\n",
    "metric_name = 'rho'\n",
    "true_or_raw = 'raw'\n",
    "train_or_test = 'train'\n",
    "exec(\"metric = %s_%s_%s_summary[k_scheme, k_fit_N, k_true_N]\" % (metric_name, true_or_raw, train_or_test))\n",
    "\n",
    "nbins = 20\n",
    "width = 0.03\n",
    "fig = plt.figure()\n",
    "ax = fig.add_subplot(111) \n",
    "ax.hist(metric, bins=nbins, align='left', color='b', width=width)\n",
    "ax.set_title(metric_name+' on '+train_or_test+' for '+scheme+', N_fit='+str(fit_N)+', N_true='+str(true_N))\n",
    "ax.set_xlabel('{}_{}'.format(metric_name, train_or_test))\n",
    "ax.set_ylabel(\"Frequency\")\n",
    "ax.set_xlim([-1, 1.1])\n",
    "plt.show()\n",
    "\n",
    "print('rho var: '+str(np.var(metric)))\n",
    "print('rho mean: '+str(np.mean(metric)))\n",
    "\n",
    "fig.savefig(\"figures_tmp/fit_example_histogram_rho_N_fit\"+str(fit_N)+\"_N_true\"+str(true_N)+\"_snr\"+str(snr)+\".pdf\", bbox_inches='tight')"
   ]
  },
  {
   "cell_type": "markdown",
   "metadata": {},
   "source": [
    "## Plot confusion matrices for simulation 1"
   ]
  },
  {
   "cell_type": "code",
   "execution_count": 17,
   "metadata": {
    "code_folding": [],
    "scrolled": false
   },
   "outputs": [
    {
     "name": "stdout",
     "output_type": "stream",
     "text": [
      "[0, 2, 4, 6, 7, 8, 9]\n",
      "r2 on raw test set, sigmoid_dpc\n"
     ]
    },
    {
     "data": {
      "image/png": "[encoded data removed]",
      "text/plain": [
       "<Figure size 720x720 with 2 Axes>"
      ]
     },
     "metadata": {
      "needs_background": "light"
     },
     "output_type": "display_data"
    },
    {
     "data": {
      "image/png": "[encoded data removed]",
      "text/plain": [
       "<Figure size 720x720 with 1 Axes>"
      ]
     },
     "metadata": {
      "needs_background": "light"
     },
     "output_type": "display_data"
    },
    {
     "name": "stdout",
     "output_type": "stream",
     "text": [
      "The index to keep is 0.\n",
      "The optimal number of tuning curves is: 2.\n",
      "Corresponding r2 mean score: 0.09556997654789645\n"
     ]
    }
   ],
   "source": [
    "################################\n",
    "k_scheme = 3\n",
    "\n",
    "################################\n",
    "n_fractions = 20\n",
    "scheme = scheme_array[k_scheme]\n",
    "\n",
    "is_N_even = True\n",
    "\n",
    "if is_N_even:\n",
    "    selected_k_N = [0, 2, 4, 6, 7, 8, 9]\n",
    "else:\n",
    "    selected_k_N = [item for item in range(len(N_array))]\n",
    "\n",
    "metric_name = 'r2'\n",
    "true_or_raw = 'raw'\n",
    "train_or_test = 'test'\n",
    "print(selected_k_N)\n",
    "#exec(\"metric = %s_%s_%s_summary[k_scheme, k_fit_N, k_true_N]\" % (metric_name, true_or_raw, train_or_test))\n",
    "\n",
    "print(metric_name+' on '+true_or_raw+' '+train_or_test+' set, '+scheme)\n",
    "\n",
    "# Visualize the entire confusion matrix\n",
    "nbins = 20\n",
    "width = 0.04\n",
    "\n",
    "#fig, ax = plt.subplots(n_N, n_N, sharex='col', sharey='row', figsize = (10, 10))\n",
    "#for k_fit_N in range(n_N):\n",
    "#    for k_true_N in range(n_N):\n",
    "#        exec(\"metric = %s_%s_%s_summary[k_scheme, k_fit_N, k_true_N]\" % (metric_name, true_or_raw, train_or_test))\n",
    "#        fit_N = N_array[k_fit_N]\n",
    "#        true_N = N_array[k_true_N]\n",
    "#        # We set the negative r2 to the same value\n",
    "#        negative_center = -0.2\n",
    "#        n_negative_values = 0\n",
    "#        if metric_name.find('r2')!=-1:\n",
    "#            for k, metric_value in enumerate(metric):\n",
    "#                if metric_value <0:\n",
    "#                    metric[k] = negative_center\n",
    "#                    n_negative_values += 1\n",
    "#\n",
    "#        ax[k_fit_N, k_true_N].hist(metric, bins=nbins, align='left', color='b', width=width)\n",
    "#        ax[k_fit_N, k_true_N].bar(negative_center, n_negative_values, color='r', width=2*width, align='center')\n",
    "#        ax[k_fit_N, k_true_N].set_title('N_fit='+str(fit_N)+', N_true='+str(true_N))\n",
    "#        ax[k_fit_N, k_true_N].set_xlabel('{}_{}'.format(metric_name, train_or_test))\n",
    "#        ax[k_fit_N, k_true_N].set_ylabel(\"Frequency\")\n",
    "#        if metric_name.find('r2')!=-1:\n",
    "#            ax[k_fit_N, k_true_N].set_xlim([-0.3, 1.1])\n",
    "#        else:\n",
    "#            ax[k_fit_N, k_true_N].set_xlim([-1, 1])\n",
    "#        ax[k_fit_N, k_true_N].set_ylim([0, n_fractions*n_subjects*n_sessions/4])\n",
    "#fig.tight_layout()\n",
    "#plt.show()\n",
    "\n",
    "# Plot the confusion matrix of the mean\n",
    "column_labels = copy.deepcopy(N_array[selected_k_N])\n",
    "row_labels = copy.deepcopy(N_array[selected_k_N])\n",
    "\n",
    "fig, ax = plt.subplots(figsize=(10,10))\n",
    "fontsize = 25\n",
    "exec(\"metric = copy.deepcopy(%s_%s_%s_summary[k_scheme, :, :, :])\" % (metric_name, true_or_raw, train_or_test))\n",
    "# We set the negative r2 to the same value\n",
    "data = np.mean(metric[selected_k_N, :, :], axis=2)\n",
    "data = data[:, selected_k_N]\n",
    "min_value = 0.04\n",
    "max_value = 0.1\n",
    "\n",
    "heatmap = ax.pcolor(data, cmap=plt.cm.Blues, vmin=min_value, vmax=max_value)\n",
    "\n",
    "# put the major ticks at the middle of each cell\n",
    "ax.set_xticks(np.arange(data.shape[1]) + 0.5, minor=False)\n",
    "ax.set_yticks(np.arange(data.shape[0]) + 0.5, minor=False)\n",
    "\n",
    "# want a more natural, table-like display\n",
    "ax.invert_yaxis()\n",
    "ax.xaxis.tick_top()\n",
    "\n",
    "ax.set_xticklabels(column_labels, minor=False, fontsize=fontsize)\n",
    "ax.set_yticklabels(row_labels, minor=False, fontsize=fontsize)\n",
    "ax.set_ylabel('$N_{fit}$', fontsize=fontsize)\n",
    "ax.set_xlabel('$N_{true}$', fontsize=fontsize)\n",
    "plt.title(scheme+', SNR='+str(snr), y=1.08, fontsize=fontsize+5)\n",
    "cbar = fig.colorbar(heatmap, ticks=[min_value, max_value])\n",
    "# Bar plots of the mean over the column\n",
    "mean_r2 = np.mean(data,axis=1)\n",
    "fig_bar, ax_bar = plt.subplots(figsize=(10, 10))\n",
    "ax_bar.bar(np.linspace(1, len(mean_r2), len(mean_r2), endpoint=True), mean_r2, color='black', width=0.5, align='center')\n",
    "ax_bar.set_ylim([0, 0.1])\n",
    "\n",
    "plt.show()\n",
    "\n",
    "if is_N_even:\n",
    "    fig.savefig(\"figures_tmp/simu1_results_\"+distrib_type+\"_scheme-\"+scheme+\"_snr\"+str(snr)+\"_EVEN.pdf\", bbox_inches='tight')\n",
    "    fig_bar.savefig(\"figures_tmp/simu1_means_\"+distrib_type+\"_scheme-\"+scheme+\"_snr\"+str(snr)+\"_EVEN.pdf\", bbox_inches='tight')\n",
    "else:\n",
    "    fig.savefig(\"figures_tmp/simu1_results_\"+distrib_type+\"_scheme-\"+scheme+\"_snr\"+str(snr)+\"_ALL.pdf\", bbox_inches='tight')\n",
    "    fig_bar.savefig(\"figures_tmp/simu1_means_\"+distrib_type+\"_scheme-\"+scheme+\"_snr\"+str(snr)+\"_ALL.pdf\", bbox_inches='tight')\n",
    "\n",
    "# Final scores:\n",
    "res = np.argmax(mean_r2)\n",
    "index = selected_k_N[res]\n",
    "print(f'The index to keep is {res}.')\n",
    "print(f'The optimal number of tuning curves is: {N_array[index]}.')\n",
    "print(f'Corresponding r2 mean score: {np.amax(mean_r2)}')"
   ]
  },
  {
   "cell_type": "code",
   "execution_count": null,
   "metadata": {},
   "outputs": [],
   "source": []
  },
  {
   "cell_type": "code",
   "execution_count": 17,
   "metadata": {},
   "outputs": [
    {
     "ename": "NameError",
     "evalue": "name 'yz_without_noise' is not defined",
     "output_type": "error",
     "traceback": [
      "\u001b[0;31m---------------------------------------------------------------------------\u001b[0m",
      "\u001b[0;31mNameError\u001b[0m                                 Traceback (most recent call last)",
      "\u001b[0;32m<ipython-input-17-121c4ca2c649>\u001b[0m in \u001b[0;36m<module>\u001b[0;34m()\u001b[0m\n\u001b[1;32m      6\u001b[0m for k_scheme, k_true_N, k_fraction, k_subject, k_session in itertools.product(range(n_schemes), \n\u001b[1;32m      7\u001b[0m                                                                             range(n_N), range(n_fractions), range(n_subjects), range(n_sessions)):\n\u001b[0;32m----> 8\u001b[0;31m     \u001b[0msd_y_true\u001b[0m\u001b[0;34m[\u001b[0m\u001b[0mk_scheme\u001b[0m\u001b[0;34m,\u001b[0m \u001b[0mk_true_N\u001b[0m\u001b[0;34m,\u001b[0m \u001b[0mk_fraction\u001b[0m\u001b[0;34m,\u001b[0m \u001b[0mk_subject\u001b[0m\u001b[0;34m,\u001b[0m \u001b[0mk_session\u001b[0m\u001b[0;34m]\u001b[0m \u001b[0;34m=\u001b[0m \u001b[0mnp\u001b[0m\u001b[0;34m.\u001b[0m\u001b[0mstd\u001b[0m\u001b[0;34m(\u001b[0m\u001b[0myz_without_noise\u001b[0m\u001b[0;34m[\u001b[0m\u001b[0mk_scheme\u001b[0m\u001b[0;34m]\u001b[0m\u001b[0;34m[\u001b[0m\u001b[0mk_true_N\u001b[0m\u001b[0;34m]\u001b[0m\u001b[0;34m[\u001b[0m\u001b[0mk_fraction\u001b[0m\u001b[0;34m]\u001b[0m\u001b[0;34m[\u001b[0m\u001b[0mk_subject\u001b[0m\u001b[0;34m]\u001b[0m\u001b[0;34m[\u001b[0m\u001b[0mk_session\u001b[0m\u001b[0;34m]\u001b[0m\u001b[0;34m)\u001b[0m\u001b[0;34m\u001b[0m\u001b[0;34m\u001b[0m\u001b[0m\n\u001b[0m\u001b[1;32m      9\u001b[0m \u001b[0;34m\u001b[0m\u001b[0m\n\u001b[1;32m     10\u001b[0m for k_scheme, k_true_N, k_fraction, k_subject, k_session in itertools.product(range(n_schemes), \n",
      "\u001b[0;31mNameError\u001b[0m: name 'yz_without_noise' is not defined"
     ]
    }
   ],
   "source": [
    "###### DEBUG CELL! Scatter plots to visualize amplitude of y_sd compared to r2\n",
    "\n",
    "sd_y_true = np.zeros((n_schemes, n_N, n_fractions, n_subjects, n_sessions))\n",
    "sd_y = np.zeros((n_schemes, n_N, n_fractions, n_subjects, n_sessions))\n",
    "\n",
    "for k_scheme, k_true_N, k_fraction, k_subject, k_session in itertools.product(range(n_schemes), \n",
    "                                                                            range(n_N), range(n_fractions), range(n_subjects), range(n_sessions)):\n",
    "    sd_y_true[k_scheme, k_true_N, k_fraction, k_subject, k_session] = np.std(yz_without_noise[k_scheme][k_true_N][k_fraction][k_subject][k_session])\n",
    "\n",
    "for k_scheme, k_true_N, k_fraction, k_subject, k_session in itertools.product(range(n_schemes), \n",
    "                                                                            range(n_N), range(n_fractions), range(n_subjects), range(n_sessions)):\n",
    "    sd_y[k_scheme, k_true_N, k_fraction, k_subject, k_session] = np.std(yz[k_scheme][k_true_N][k_fraction][k_subject][k_session])\n",
    "\n",
    "\n",
    "k_scheme = 1\n",
    "\n",
    "print(r2_raw_test.shape)\n",
    "\n",
    "fig = plt.figure(figsize=(10,10))\n",
    "ax = fig.add_subplot(111)\n",
    "for k_true_N in range(n_N):\n",
    "    x = sd_y[k_scheme, k_true_N, :, :, :].flatten()\n",
    "    y = r2_raw_test[k_scheme, 4, k_true_N, :, :, :].flatten()\n",
    "    ax.scatter(x, y, s=10, label='N ='+str(N_array[k_true_N]))\n",
    "ax.set_xlabel('y std')\n",
    "ax.set_ylabel('r2_test')\n",
    "ax.legend()\n",
    "plt.show()"
   ]
  },
  {
   "cell_type": "markdown",
   "metadata": {},
   "source": [
    "### Find the optimal number of subjects to be generated\n",
    "\n",
    "Plot the mean and variance of these distributions for different number of subjects"
   ]
  },
  {
   "cell_type": "code",
   "execution_count": 164,
   "metadata": {},
   "outputs": [],
   "source": [
    "# Find the assymptotical value for n_fractions\n",
    "n_subjects_array = np.linspace(1, n_subjects, num=int(n_subjects/5), endpoint=True).astype(int)\n",
    "\n",
    "subject_r2_train_mean = np.zeros((n_schemes, n_N, n_N, len(n_subjects_array)))\n",
    "subject_r2_train_var = np.zeros((n_schemes, n_N, n_N, len(n_subjects_array)))\n",
    "\n",
    "subject_r2_test_mean = np.zeros((n_schemes, n_N, n_N, len(n_subjects_array)))\n",
    "subject_r2_test_var = np.zeros((n_schemes, n_N, n_N, len(n_subjects_array)))\n",
    "\n",
    "subject_r2_true_test_mean = np.zeros((n_schemes, n_N, n_N, len(n_subjects_array)))\n",
    "subject_r2_true_test_var = np.zeros((n_schemes, n_N, n_N, len(n_subjects_array)))\n",
    "\n",
    "subject_rho_train_mean = np.zeros((n_schemes, n_N, n_N, len(n_subjects_array)))\n",
    "subject_rho_train_var = np.zeros((n_schemes, n_N, n_N, len(n_subjects_array)))\n",
    "\n",
    "subject_rho_test_mean = np.zeros((n_schemes, n_N, n_N, len(n_subjects_array)))\n",
    "subject_rho_test_var = np.zeros((n_schemes, n_N, n_N, len(n_subjects_array)))\n",
    "\n",
    "for k_n_subjects, n_subjects in enumerate(n_subjects_array):\n",
    "    for k_scheme, k_fit_N, k_true_N in itertools.product(range(n_schemes), range(n_N), range(n_N)):            \n",
    "        subject_r2_train_mean[k_scheme, k_fit_N, k_true_N, k_n_subjects] = \\\n",
    "            np.mean(r2_train[k_scheme, k_fit_N, k_true_N, :, :n_subjects, :].flatten())\n",
    "        subject_r2_train_var[k_scheme, k_fit_N, k_true_N, k_n_subjects] = \\\n",
    "            np.var(r2_train[k_scheme, k_fit_N, k_true_N, :, :n_subjects, :].flatten())\n",
    "                                      \n",
    "        subject_r2_test_mean[k_scheme, k_fit_N, k_true_N, k_n_subjects] = \\\n",
    "            np.mean(r2_test[k_scheme, k_fit_N, k_true_N, :, :n_subjects, :].flatten())\n",
    "        subject_r2_test_var[k_scheme, k_fit_N, k_true_N, k_n_subjects] = \\\n",
    "            np.var(r2_test[k_scheme, k_fit_N, k_true_N, :, :n_subjects, :].flatten())\n",
    "        \n",
    "        subject_r2_true_test_mean[k_scheme, k_fit_N, k_true_N, k_n_subjects] = \\\n",
    "            np.mean(r2_true_test[k_scheme, k_fit_N, k_true_N, :, :n_subjects, :].flatten())\n",
    "        subject_r2_true_test_var[k_scheme, k_fit_N, k_true_N, k_n_subjects] = \\\n",
    "            np.var(r2_true_test[k_scheme, k_fit_N, k_true_N, :, :n_subjects, :].flatten())\n",
    "\n",
    "        subject_rho_train_mean[k_scheme, k_fit_N, k_true_N, k_n_subjects] = \\\n",
    "            np.mean(rho_train[k_scheme, k_fit_N, k_true_N, :, :n_subjects, :].flatten())\n",
    "        subject_rho_train_var[k_scheme, k_fit_N, k_true_N, k_n_subjects] = \\\n",
    "            np.var(rho_train[k_scheme, k_fit_N, k_true_N, :, :n_subjects, :].flatten())\n",
    "\n",
    "        subject_rho_test_mean[k_scheme, k_fit_N, k_true_N, k_n_subjects] = \\\n",
    "            np.mean(rho_test[k_scheme, k_fit_N, k_true_N, :, :n_subjects, :].flatten())\n",
    "        subject_rho_test_var[k_scheme, k_fit_N, k_true_N, k_n_subjects] = \\\n",
    "            np.var(rho_test[k_scheme, k_fit_N, k_true_N, :, :n_subjects, :].flatten())"
   ]
  },
  {
   "cell_type": "code",
   "execution_count": 165,
   "metadata": {},
   "outputs": [
    {
     "name": "stdout",
     "output_type": "stream",
     "text": [
      "Scheme : sigmoid_ppc\n",
      "true_N = 6\n",
      "fit_N = 5\n",
      "\n"
     ]
    },
    {
     "data": {
      "image/png": "[encoded data removed]",
      "text/plain": [
       "<matplotlib.figure.Figure at 0x11740ab70>"
      ]
     },
     "metadata": {},
     "output_type": "display_data"
    }
   ],
   "source": [
    "# Visualize the evolution of r2 according to the number of subjects\n",
    "k_scheme = 1\n",
    "k_fit_N = 3\n",
    "k_true_N = 4\n",
    "\n",
    "true_N = N_array[k_true_N]\n",
    "fit_N = N_array[k_fit_N]\n",
    "\n",
    "print('Scheme : '+scheme_array[k_scheme]+'\\n'+'true_N = '+str(true_N)+'\\nfit_N = '+str(fit_N)\n",
    "      +'\\n')\n",
    "\n",
    "subject_r2_train_mean_to_plot = subject_r2_train_mean[k_scheme, k_fit_N, k_true_N, :]\n",
    "subject_r2_train_var_to_plot = subject_r2_train_var[k_scheme, k_fit_N, k_true_N, :]\n",
    "\n",
    "subject_r2_test_mean_to_plot = subject_r2_test_mean[k_scheme, k_fit_N, k_true_N, :]\n",
    "subject_r2_test_var_to_plot = subject_r2_test_var[k_scheme, k_fit_N, k_true_N, :]\n",
    "\n",
    "subject_rho_train_mean_to_plot = subject_rho_train_mean[k_scheme, k_fit_N, k_true_N, :]\n",
    "subject_rho_train_var_to_plot = subject_rho_train_var[k_scheme, k_fit_N, k_true_N, :]\n",
    "\n",
    "subject_rho_test_mean_to_plot = subject_rho_test_mean[k_scheme, k_fit_N, k_true_N, :]\n",
    "subject_rho_test_var_to_plot = subject_rho_test_var[k_scheme, k_fit_N, k_true_N, :]\n",
    "\n",
    "subject_r2_true_test_mean_to_plot = subject_r2_true_test_mean[k_scheme, k_fit_N, k_true_N, :]\n",
    "subject_r2_true_test_var_to_plot = subject_r2_true_test_var[k_scheme, k_fit_N, k_true_N, :]\n",
    "\n",
    "fig = plt.figure(figsize=(12, 12))\n",
    "ax_r2_train_mean = fig.add_subplot(521)\n",
    "ax_r2_train_mean.plot(n_subjects_array, subject_r2_train_mean_to_plot)\n",
    "ax_r2_train_mean.set_xlabel('n_subjects')\n",
    "ax_r2_train_mean.set_ylabel('Mean of r2_train')\n",
    "ax_r2_train_mean.set_title('Mean of r2_train')\n",
    "\n",
    "ax_r2_train_var = fig.add_subplot(522)\n",
    "ax_r2_train_var.plot(n_subjects_array, subject_r2_train_var_to_plot)\n",
    "ax_r2_train_var.set_xlabel('n_subjects')\n",
    "ax_r2_train_var.set_ylabel('Variance of r2_train')\n",
    "ax_r2_train_var.set_title('Variance of r2_train')\n",
    "\n",
    "ax_r2_test_mean = fig.add_subplot(523)\n",
    "ax_r2_test_mean.plot(n_subjects_array, subject_r2_test_mean_to_plot)\n",
    "ax_r2_test_mean.set_xlabel('n_subjects')\n",
    "ax_r2_test_mean.set_ylabel('Mean of r2_test')\n",
    "ax_r2_test_mean.set_title('Mean of r2_test')\n",
    "\n",
    "ax_r2_test_var = fig.add_subplot(524)\n",
    "ax_r2_test_var.plot(n_subjects_array, subject_r2_test_var_to_plot)\n",
    "ax_r2_test_var.set_xlabel('n_subjects')\n",
    "ax_r2_test_var.set_ylabel('Variance of r2_test')\n",
    "ax_r2_test_var.set_title('Variance of r2_test')\n",
    "\n",
    "ax_rho_train_mean = fig.add_subplot(525)\n",
    "ax_rho_train_mean.plot(n_subjects_array, subject_rho_train_mean_to_plot)\n",
    "ax_rho_train_mean.set_xlabel('n_subjects')\n",
    "ax_rho_train_mean.set_ylabel('Mean of rho_train')\n",
    "ax_rho_train_mean.set_title('Mean of rho_train')\n",
    "\n",
    "ax_rho_train_var = fig.add_subplot(526)\n",
    "ax_rho_train_var.plot(n_subjects_array, subject_rho_train_var_to_plot)\n",
    "ax_rho_train_var.set_xlabel('n_subjects')\n",
    "ax_rho_train_var.set_ylabel('Variance of rho_train')\n",
    "ax_rho_train_var.set_title('Variance of rho_train')\n",
    "\n",
    "ax_rho_test_mean = fig.add_subplot(527)\n",
    "ax_rho_test_mean.plot(n_subjects_array, subject_rho_test_mean_to_plot)\n",
    "ax_rho_test_mean.set_xlabel('n_subjects')\n",
    "ax_rho_test_mean.set_ylabel('Mean of rho_test')\n",
    "ax_rho_test_mean.set_title('Mean of rho_test')\n",
    "\n",
    "ax_rho_test_var = fig.add_subplot(528)\n",
    "ax_rho_test_var.plot(n_subjects_array, subject_rho_test_var_to_plot)\n",
    "ax_rho_test_var.set_xlabel('n_subjects')\n",
    "ax_rho_test_var.set_ylabel('Variance of rho_test')\n",
    "ax_rho_test_var.set_title('Variance of rho_test')\n",
    "fig.tight_layout()\n",
    "\n",
    "ax_r2_true_test_mean = fig.add_subplot(5,2, 9)\n",
    "ax_r2_true_test_mean.plot(n_subjects_array, subject_r2_true_test_mean_to_plot)\n",
    "ax_r2_true_test_mean.set_xlabel('n_subjects')\n",
    "ax_r2_true_test_mean.set_ylabel('Mean of r2_true_test')\n",
    "ax_r2_true_test_mean.set_title('Mean of r2_true_test')\n",
    "\n",
    "ax_r2_true_test_var = fig.add_subplot(5,2,10)\n",
    "ax_r2_true_test_var.plot(n_subjects_array, subject_r2_true_test_var_to_plot)\n",
    "ax_r2_true_test_var.set_xlabel('n_subjects')\n",
    "ax_r2_true_test_var.set_ylabel('Variance of r2_true_test')\n",
    "ax_r2_true_test_var.set_title('Variance of r2_true_test')\n",
    "\n",
    "\n",
    "plt.show()"
   ]
  },
  {
   "cell_type": "code",
   "execution_count": null,
   "metadata": {},
   "outputs": [],
   "source": []
  }
 ],
 "metadata": {
  "kernelspec": {
   "display_name": "Python 3",
   "language": "python",
   "name": "python3"
  },
  "language_info": {
   "codemirror_mode": {
    "name": "ipython",
    "version": 3
   },
   "file_extension": ".py",
   "mimetype": "text/x-python",
   "name": "python",
   "nbconvert_exporter": "python",
   "pygments_lexer": "ipython3",
   "version": "3.6.4"
  }
 },
 "nbformat": 4,
 "nbformat_minor": 2
}
